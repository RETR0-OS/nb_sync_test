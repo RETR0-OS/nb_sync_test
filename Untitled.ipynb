{
 "cells": [
  {
   "cell_type": "code",
   "execution_count": 18,
   "id": "0955501c-5637-4204-9ba5-a157055f6da8",
   "metadata": {
    "editable": true,
    "slideshow": {
     "slide_type": ""
    },
    "tags": []
   },
   "outputs": [
    {
     "name": "stdout",
     "output_type": "stream",
     "text": [
      "Hello World!\n",
      "Count: 0\n",
      "Count: 1\n",
      "Count: 2\n",
      "Count: 3\n",
      "Count: 4\n"
     ]
    }
   ],
   "source": [
    "def fibonacci(n):\n",
    "    if n <= 1:\n",
    "        return n\n",
    "    return fibonacci(n-1) + fibonacci(n-2)\n",
    "\n",
    "print(fibonacci(10))"
   ]
  },
  {
   "cell_type": "code",
   "execution_count": 16,
   "id": "88e7db2a-8c6f-4b6f-b1a9-6d73904cf32a",
   "metadata": {
    "editable": true,
    "slideshow": {
     "slide_type": ""
    },
    "tags": []
   },
   "outputs": [
    {
     "name": "stdout",
     "output_type": "stream",
     "text": [
      "55\n"
     ]
    }
   ],
   "source": [
    "def fibonacci(n):\n",
    "    if n <= 1:\n",
    "        return n\n",
    "    return fibonacci(n-1) + fibonacci(n-2)\n",
    "\n",
    "print(fibonacci(10))"
   ]
  },
  {
   "cell_type": "code",
   "execution_count": 7,
   "id": "a1d2229d-76af-487d-95f2-93ba04a4544c",
   "metadata": {
    "editable": true,
    "slideshow": {
     "slide_type": ""
    },
    "tags": []
   },
   "outputs": [
    {
     "name": "stdout",
     "output_type": "stream",
     "text": [
      "Hello word\n"
     ]
    }
   ],
   "source": [
    "import pandas as pd\n",
    "import numpy as np\n",
    "\n",
    "df = pd.read_csv(\"data.csv\")\n",
    "print(df.head())"
   ]
  },
  {
   "cell_type": "code",
   "execution_count": 8,
   "id": "eedf1709-269e-4230-accf-9baa9c0476c4",
   "metadata": {
    "editable": true,
    "slideshow": {
     "slide_type": ""
    },
    "tags": []
   },
   "outputs": [
    {
     "name": "stdout",
     "output_type": "stream",
     "text": [
      "Hello word\n"
     ]
    }
   ],
   "source": [
    "print(\"Hello word\")\n"
   ]
  },
  {
   "cell_type": "code",
   "execution_count": 13,
   "id": "2e91cbd4-c7eb-4a52-b229-44a6571a543f",
   "metadata": {
    "editable": true,
    "slideshow": {
     "slide_type": ""
    },
    "tags": []
   },
   "outputs": [
    {
     "name": "stdout",
     "output_type": "stream",
     "text": [
      "Looking for notebooks in: /Users/gunbirsingh/nb_sync_test\n",
      "Found notebooks: ['Untitled.ipynb']\n",
      "\n",
      "Reading: Untitled.ipynb\n",
      "\n",
      "Cell IDs:\n",
      "Cell 1: 0955501c-5637-4204-9ba5-a157055f6da8 (code)\n",
      "Cell 2: 88e7db2a-8c6f-4b6f-b1a9-6d73904cf32a (code)\n",
      "Cell 3: a1d2229d-76af-487d-95f2-93ba04a4544c (code)\n",
      "Cell 4: eedf1709-269e-4230-accf-9baa9c0476c4 (code)\n",
      "Cell 5: 2e91cbd4-c7eb-4a52-b229-44a6571a543f (code)\n",
      "Cell 6: 14892b5b-efc8-4f29-a674-3f001b2cd9f4 (code)\n"
     ]
    }
   ],
   "source": [
    "# Get the current notebook's metadata programmatically\n",
    "import json\n",
    "import os\n",
    "import nbformat\n",
    "\n",
    "# Get current working directory and look for .ipynb files\n",
    "cwd = os.getcwd()\n",
    "print(\"Looking for notebooks in:\", cwd)\n",
    "\n",
    "# List all notebook files\n",
    "import glob\n",
    "notebooks = glob.glob(\"*.ipynb\")\n",
    "print(\"Found notebooks:\", notebooks)\n",
    "\n",
    "# If you know your notebook name, replace 'your_notebook.ipynb'\n",
    "if notebooks:\n",
    "    notebook_file = notebooks[0]  # Use first notebook found\n",
    "    print(f\"\\nReading: {notebook_file}\")\n",
    "    \n",
    "    with open(notebook_file, 'r') as f:\n",
    "        nb = nbformat.read(f, as_version=4)\n",
    "    \n",
    "    print(\"\\nCell IDs:\")\n",
    "    for i, cell in enumerate(nb.cells):\n",
    "        cell_id = cell.get('id', 'No ID found')\n",
    "        cell_type = cell.get('cell_type', 'unknown')\n",
    "        print(f\"Cell {i+1}: {cell_id} ({cell_type})\")"
   ]
  },
  {
   "cell_type": "code",
   "execution_count": 15,
   "id": "14892b5b-efc8-4f29-a674-3f001b2cd9f4",
   "metadata": {
    "editable": true,
    "slideshow": {
     "slide_type": ""
    },
    "tags": []
   },
   "outputs": [
    {
     "name": "stdout",
     "output_type": "stream",
     "text": [
      "Cell 1:\n",
      "  ID: 0955501c-5637-4204-9ba5-a157055f6da8\n",
      "  Type: code\n",
      "  Created: Not available\n",
      "  Modified: Not available\n",
      "---\n",
      "Cell 2:\n",
      "  ID: 88e7db2a-8c6f-4b6f-b1a9-6d73904cf32a\n",
      "  Type: code\n",
      "  Created: Not available\n",
      "  Modified: Not available\n",
      "---\n",
      "Cell 3:\n",
      "  ID: a1d2229d-76af-487d-95f2-93ba04a4544c\n",
      "  Type: code\n",
      "  Created: Not available\n",
      "  Modified: Not available\n",
      "---\n",
      "Cell 4:\n",
      "  ID: eedf1709-269e-4230-accf-9baa9c0476c4\n",
      "  Type: code\n",
      "  Created: Not available\n",
      "  Modified: Not available\n",
      "---\n",
      "Cell 5:\n",
      "  ID: 2e91cbd4-c7eb-4a52-b229-44a6571a543f\n",
      "  Type: code\n",
      "  Created: Not available\n",
      "  Modified: Not available\n",
      "---\n",
      "Cell 6:\n",
      "  ID: 14892b5b-efc8-4f29-a674-3f001b2cd9f4\n",
      "  Type: code\n",
      "  Created: Not available\n",
      "  Modified: Not available\n",
      "---\n"
     ]
    }
   ],
   "source": [
    "import nbformat\n",
    "from datetime import datetime\n",
    "\n",
    "def get_cell_info_with_timestamps(Untitled):\n",
    "    with open(notebook_file, 'r') as f:\n",
    "        nb = nbformat.read(f, as_version=4)\n",
    "    \n",
    "    for i, cell in enumerate(nb.cells):\n",
    "        cell_id = cell.get('id', 'No ID')\n",
    "        cell_type = cell.get('cell_type', 'unknown')\n",
    "        \n",
    "        # Check for creation timestamp in metadata\n",
    "        metadata = cell.get('metadata', {})\n",
    "        created_time = metadata.get('created_time', 'Not available')\n",
    "        modified_time = metadata.get('modified_time', 'Not available')\n",
    "        \n",
    "        print(f\"Cell {i+1}:\")\n",
    "        print(f\"  ID: {cell_id}\")\n",
    "        print(f\"  Type: {cell_type}\")\n",
    "        print(f\"  Created: {created_time}\")\n",
    "        print(f\"  Modified: {modified_time}\")\n",
    "        print(\"---\")\n",
    "\n",
    "# Usage\n",
    "get_cell_info_with_timestamps('your_notebook.ipynb')"
   ]
  },
  {
   "cell_type": "code",
   "execution_count": null,
   "id": "52c5a65a-e3b8-4423-b759-3e445fa21d52",
   "metadata": {},
   "outputs": [],
   "source": []
  },
  {
   "cell_type": "code",
   "execution_count": null,
   "id": "122d7f33-0aa1-45e8-9d19-572b3998b665",
   "metadata": {},
   "outputs": [],
   "source": []
  },
  {
   "cell_type": "code",
   "execution_count": null,
   "id": "cd182680-0d06-4b48-a7c2-c1a0474a2c4c",
   "metadata": {},
   "outputs": [],
   "source": []
  },
  {
   "cell_type": "code",
   "execution_count": null,
   "id": "bb789352-9d3c-493f-929e-3071cdb93aeb",
   "metadata": {},
   "outputs": [],
   "source": []
  },
  {
   "cell_type": "code",
   "execution_count": null,
   "id": "65d3742a-331d-4667-a9a6-e4ea6441f84f",
   "metadata": {},
   "outputs": [],
   "source": []
  },
  {
   "cell_type": "code",
   "execution_count": null,
   "id": "c01b6a80-67e5-4780-93af-e056d4aa744e",
   "metadata": {},
   "outputs": [],
   "source": []
  },
  {
   "cell_type": "code",
   "execution_count": null,
   "id": "44e260c9-906a-4c88-9634-709bed0838b6",
   "metadata": {},
   "outputs": [],
   "source": []
  }
 ],
 "metadata": {
  "kernelspec": {
   "display_name": "Python 3 (ipykernel)",
   "language": "python",
   "name": "python3"
  },
  "language_info": {
   "codemirror_mode": {
    "name": "ipython",
    "version": 3
   },
   "file_extension": ".py",
   "mimetype": "text/x-python",
   "name": "python",
   "nbconvert_exporter": "python",
   "pygments_lexer": "ipython3",
   "version": "3.13.7"
  }
 },
 "nbformat": 4,
 "nbformat_minor": 5
}
